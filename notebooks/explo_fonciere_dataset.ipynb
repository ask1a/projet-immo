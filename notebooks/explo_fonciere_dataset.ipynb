{
 "cells": [
  {
   "cell_type": "code",
   "execution_count": 6,
   "id": "5e99cb3f-5b4c-4838-bb17-24b968411c9e",
   "metadata": {},
   "outputs": [],
   "source": [
    "import pandas as pd\n",
    "import os\n",
    "\n",
    "# Définir l'affichage de toutes les colonnes\n",
    "pd.set_option('display.max_columns', None)"
   ]
  },
  {
   "cell_type": "code",
   "execution_count": 7,
   "id": "c46e7a32-7595-488e-9ef0-382390f7e04f",
   "metadata": {},
   "outputs": [
    {
     "data": {
      "text/plain": [
       "'/workspaces/projet-immo/notebooks'"
      ]
     },
     "execution_count": 7,
     "metadata": {},
     "output_type": "execute_result"
    }
   ],
   "source": [
    "os.getcwd()"
   ]
  },
  {
   "cell_type": "code",
   "execution_count": 8,
   "id": "01e6ae5e-0021-45a6-8433-f644fb40e039",
   "metadata": {},
   "outputs": [],
   "source": [
    "fonciere_data = pd.read_csv(\"/workspaces/projet-immo/data/fonciere.csv\",sep=\";\")"
   ]
  },
  {
   "cell_type": "markdown",
   "id": "a5627913-fd66-4704-b464-53d87fa2ab7e",
   "metadata": {},
   "source": [
    "Liste des acronymes  \n",
    "\n",
    "**CA** : Communauté d’agglomération  \n",
    "**CC** : Communauté de communes  \n",
    "**CU** : Communauté urbaine  \n",
    "**MET** : Métropole  \n",
    "**TEOM** : Taxe d’enlèvement des ordures ménagères  \n",
    "**TFB** : Taxe foncière sur les propriétés bâties  \n",
    "**TFNB** : Taxe foncière sur les propriétés non bâties  \n",
    "**TH** : Taxe d’habitation  \n",
    "**THRS** : Taxe d’habitation sur les résidences secondaires  \n",
    "**THLV** : Taxe d’habitation sur les logements vacants  "
   ]
  },
  {
   "cell_type": "code",
   "execution_count": 12,
   "id": "2458371d-82e9-4c8a-91aa-868cc1719e2d",
   "metadata": {},
   "outputs": [],
   "source": [
    "colonnes_etude = [\"EXERCICE\",\"REG\",\"LIBREG\",\"DEP\",\"LIBDEP\",\"COM\",\"LIBCOM\",\"Taux_Global_TFNB\",\"Taux_Global_TFB\"]"
   ]
  },
  {
   "cell_type": "code",
   "execution_count": 19,
   "id": "d597cdd6-fc25-4e9c-bf6a-095f543a69b8",
   "metadata": {},
   "outputs": [
    {
     "data": {
      "text/html": [
       "<div>\n",
       "<style scoped>\n",
       "    .dataframe tbody tr th:only-of-type {\n",
       "        vertical-align: middle;\n",
       "    }\n",
       "\n",
       "    .dataframe tbody tr th {\n",
       "        vertical-align: top;\n",
       "    }\n",
       "\n",
       "    .dataframe thead th {\n",
       "        text-align: right;\n",
       "    }\n",
       "</style>\n",
       "<table border=\"1\" class=\"dataframe\">\n",
       "  <thead>\n",
       "    <tr style=\"text-align: right;\">\n",
       "      <th></th>\n",
       "      <th>EXERCICE</th>\n",
       "      <th>REG</th>\n",
       "      <th>LIBREG</th>\n",
       "      <th>DEP</th>\n",
       "      <th>LIBDEP</th>\n",
       "      <th>COM</th>\n",
       "      <th>LIBCOM</th>\n",
       "      <th>Taux_Global_TFNB</th>\n",
       "      <th>Taux_Global_TFB</th>\n",
       "    </tr>\n",
       "  </thead>\n",
       "  <tbody>\n",
       "    <tr>\n",
       "      <th>1131</th>\n",
       "      <td>2023</td>\n",
       "      <td>44</td>\n",
       "      <td>GRAND-EST</td>\n",
       "      <td>55</td>\n",
       "      <td>MEUSE</td>\n",
       "      <td>113</td>\n",
       "      <td>CHEPPY</td>\n",
       "      <td>71.06</td>\n",
       "      <td>43.20</td>\n",
       "    </tr>\n",
       "    <tr>\n",
       "      <th>1132</th>\n",
       "      <td>2023</td>\n",
       "      <td>44</td>\n",
       "      <td>GRAND-EST</td>\n",
       "      <td>55</td>\n",
       "      <td>MEUSE</td>\n",
       "      <td>133</td>\n",
       "      <td>COUVERTPUIS</td>\n",
       "      <td>86.67</td>\n",
       "      <td>43.78</td>\n",
       "    </tr>\n",
       "    <tr>\n",
       "      <th>1133</th>\n",
       "      <td>2023</td>\n",
       "      <td>44</td>\n",
       "      <td>GRAND-EST</td>\n",
       "      <td>55</td>\n",
       "      <td>MEUSE</td>\n",
       "      <td>143</td>\n",
       "      <td>DAMLOUP</td>\n",
       "      <td>89.61</td>\n",
       "      <td>50.34</td>\n",
       "    </tr>\n",
       "    <tr>\n",
       "      <th>1134</th>\n",
       "      <td>2023</td>\n",
       "      <td>44</td>\n",
       "      <td>GRAND-EST</td>\n",
       "      <td>55</td>\n",
       "      <td>MEUSE</td>\n",
       "      <td>163</td>\n",
       "      <td>DONCOURT AUX TEMPLIERS</td>\n",
       "      <td>83.07</td>\n",
       "      <td>45.23</td>\n",
       "    </tr>\n",
       "    <tr>\n",
       "      <th>1135</th>\n",
       "      <td>2023</td>\n",
       "      <td>44</td>\n",
       "      <td>GRAND-EST</td>\n",
       "      <td>55</td>\n",
       "      <td>MEUSE</td>\n",
       "      <td>168</td>\n",
       "      <td>DUZEY</td>\n",
       "      <td>75.37</td>\n",
       "      <td>47.48</td>\n",
       "    </tr>\n",
       "  </tbody>\n",
       "</table>\n",
       "</div>"
      ],
      "text/plain": [
       "      EXERCICE  REG     LIBREG DEP LIBDEP  COM                  LIBCOM  \\\n",
       "1131      2023   44  GRAND-EST  55  MEUSE  113                  CHEPPY   \n",
       "1132      2023   44  GRAND-EST  55  MEUSE  133             COUVERTPUIS   \n",
       "1133      2023   44  GRAND-EST  55  MEUSE  143                 DAMLOUP   \n",
       "1134      2023   44  GRAND-EST  55  MEUSE  163  DONCOURT AUX TEMPLIERS   \n",
       "1135      2023   44  GRAND-EST  55  MEUSE  168                   DUZEY   \n",
       "\n",
       "      Taux_Global_TFNB  Taux_Global_TFB  \n",
       "1131             71.06            43.20  \n",
       "1132             86.67            43.78  \n",
       "1133             89.61            50.34  \n",
       "1134             83.07            45.23  \n",
       "1135             75.37            47.48  "
      ]
     },
     "execution_count": 19,
     "metadata": {},
     "output_type": "execute_result"
    }
   ],
   "source": [
    "fonciere_data.loc[(fonciere_data[\"EXERCICE\"]==2023),colonnes_etude].head()"
   ]
  },
  {
   "cell_type": "code",
   "execution_count": 18,
   "id": "c7d1e865-2f69-42ae-afd7-f775150747ee",
   "metadata": {},
   "outputs": [
    {
     "data": {
      "text/html": [
       "<div>\n",
       "<style scoped>\n",
       "    .dataframe tbody tr th:only-of-type {\n",
       "        vertical-align: middle;\n",
       "    }\n",
       "\n",
       "    .dataframe tbody tr th {\n",
       "        vertical-align: top;\n",
       "    }\n",
       "\n",
       "    .dataframe thead th {\n",
       "        text-align: right;\n",
       "    }\n",
       "</style>\n",
       "<table border=\"1\" class=\"dataframe\">\n",
       "  <thead>\n",
       "    <tr style=\"text-align: right;\">\n",
       "      <th></th>\n",
       "      <th>EXERCICE</th>\n",
       "      <th>REG</th>\n",
       "      <th>LIBREG</th>\n",
       "      <th>DEP</th>\n",
       "      <th>LIBDEP</th>\n",
       "      <th>COM</th>\n",
       "      <th>LIBCOM</th>\n",
       "      <th>Taux_Global_TFNB</th>\n",
       "      <th>Taux_Global_TFB</th>\n",
       "    </tr>\n",
       "  </thead>\n",
       "  <tbody>\n",
       "    <tr>\n",
       "      <th>21143</th>\n",
       "      <td>2023</td>\n",
       "      <td>11</td>\n",
       "      <td>ILE-DE-FRANCE</td>\n",
       "      <td>75</td>\n",
       "      <td>PARIS</td>\n",
       "      <td>56</td>\n",
       "      <td>VILLE DE PARIS</td>\n",
       "      <td>28.86</td>\n",
       "      <td>21.15</td>\n",
       "    </tr>\n",
       "  </tbody>\n",
       "</table>\n",
       "</div>"
      ],
      "text/plain": [
       "       EXERCICE  REG         LIBREG DEP LIBDEP  COM          LIBCOM  \\\n",
       "21143      2023   11  ILE-DE-FRANCE  75  PARIS   56  VILLE DE PARIS   \n",
       "\n",
       "       Taux_Global_TFNB  Taux_Global_TFB  \n",
       "21143             28.86            21.15  "
      ]
     },
     "execution_count": 18,
     "metadata": {},
     "output_type": "execute_result"
    }
   ],
   "source": [
    "fonciere_data.loc[(fonciere_data[\"DEP\"]==\"75\")&(fonciere_data[\"EXERCICE\"]==2023),colonnes_etude]"
   ]
  },
  {
   "cell_type": "markdown",
   "id": "f583f9c6-f956-46a4-9af9-4f55a0828c21",
   "metadata": {},
   "source": [
    "Formule de calcul de la taxe fonciere\n",
    "\n",
    "Taxe foncière = (Valeur locative cadastrale×50%) × Taux d’imposition\n",
    "\n",
    "ValeurLocativeCadastrale = Surface pondérée x Tarif au m² x Coefficient de localisation x Coefficient d'entretien"
   ]
  },
  {
   "cell_type": "code",
   "execution_count": 23,
   "id": "8d9476a2-88ba-4443-a85c-a7c703cad261",
   "metadata": {},
   "outputs": [
    {
     "data": {
      "text/plain": [
       "1395.8999999999999"
      ]
     },
     "execution_count": 23,
     "metadata": {},
     "output_type": "execute_result"
    }
   ],
   "source": [
    "1100*12*0.5*0.2115"
   ]
  },
  {
   "cell_type": "code",
   "execution_count": null,
   "id": "bf423af5-287c-4933-89c0-0e529888cb81",
   "metadata": {},
   "outputs": [],
   "source": []
  }
 ],
 "metadata": {
  "kernelspec": {
   "display_name": "Python 3 (ipykernel)",
   "language": "python",
   "name": "python3"
  },
  "language_info": {
   "codemirror_mode": {
    "name": "ipython",
    "version": 3
   },
   "file_extension": ".py",
   "mimetype": "text/x-python",
   "name": "python",
   "nbconvert_exporter": "python",
   "pygments_lexer": "ipython3",
   "version": "3.12.1"
  }
 },
 "nbformat": 4,
 "nbformat_minor": 5
}
